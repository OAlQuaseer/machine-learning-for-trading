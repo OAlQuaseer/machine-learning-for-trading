{
 "cells": [
  {
   "cell_type": "code",
   "execution_count": 67,
   "id": "46f09911-9a0a-4e78-9038-3ca9089b270d",
   "metadata": {},
   "outputs": [],
   "source": [
    "import pandas as pd\n",
    "import numpy\n",
    "import talib\n",
    "import matplotlib.pyplot as plt"
   ]
  },
  {
   "cell_type": "code",
   "execution_count": 92,
   "id": "525265f7-5bfd-4cd3-97c7-80257e612732",
   "metadata": {},
   "outputs": [],
   "source": [
    "df = pd.read_csv('data/AAPL.csv')"
   ]
  },
  {
   "cell_type": "code",
   "execution_count": 93,
   "id": "e7abcf2c-814e-4bfc-8989-1a1ff6efa716",
   "metadata": {},
   "outputs": [],
   "source": [
    "df['SMA'] = talib.SMA(df['Close'], timeperiod = 50)"
   ]
  },
  {
   "cell_type": "code",
   "execution_count": 90,
   "id": "df892621-4e51-45e0-b0b4-8c1bbdfdeb72",
   "metadata": {},
   "outputs": [
    {
     "data": {
      "text/html": [
       "<div>\n",
       "<style scoped>\n",
       "    .dataframe tbody tr th:only-of-type {\n",
       "        vertical-align: middle;\n",
       "    }\n",
       "\n",
       "    .dataframe tbody tr th {\n",
       "        vertical-align: top;\n",
       "    }\n",
       "\n",
       "    .dataframe thead th {\n",
       "        text-align: right;\n",
       "    }\n",
       "</style>\n",
       "<table border=\"1\" class=\"dataframe\">\n",
       "  <thead>\n",
       "    <tr style=\"text-align: right;\">\n",
       "      <th></th>\n",
       "      <th>Date</th>\n",
       "      <th>Open</th>\n",
       "      <th>High</th>\n",
       "      <th>Low</th>\n",
       "      <th>Close</th>\n",
       "      <th>Adj Close</th>\n",
       "      <th>Volume</th>\n",
       "      <th>SMA</th>\n",
       "    </tr>\n",
       "  </thead>\n",
       "  <tbody>\n",
       "    <tr>\n",
       "      <th>248</th>\n",
       "      <td>2022-10-19</td>\n",
       "      <td>141.690002</td>\n",
       "      <td>144.949997</td>\n",
       "      <td>141.500000</td>\n",
       "      <td>143.860001</td>\n",
       "      <td>143.860001</td>\n",
       "      <td>61758300</td>\n",
       "      <td>155.0484</td>\n",
       "    </tr>\n",
       "    <tr>\n",
       "      <th>249</th>\n",
       "      <td>2022-10-20</td>\n",
       "      <td>143.020004</td>\n",
       "      <td>145.889999</td>\n",
       "      <td>142.649994</td>\n",
       "      <td>143.389999</td>\n",
       "      <td>143.389999</td>\n",
       "      <td>64522000</td>\n",
       "      <td>154.5314</td>\n",
       "    </tr>\n",
       "    <tr>\n",
       "      <th>250</th>\n",
       "      <td>2022-10-21</td>\n",
       "      <td>142.869995</td>\n",
       "      <td>147.850006</td>\n",
       "      <td>142.649994</td>\n",
       "      <td>147.270004</td>\n",
       "      <td>147.270004</td>\n",
       "      <td>86464700</td>\n",
       "      <td>154.1070</td>\n",
       "    </tr>\n",
       "  </tbody>\n",
       "</table>\n",
       "</div>"
      ],
      "text/plain": [
       "           Date        Open        High         Low       Close   Adj Close  \\\n",
       "248  2022-10-19  141.690002  144.949997  141.500000  143.860001  143.860001   \n",
       "249  2022-10-20  143.020004  145.889999  142.649994  143.389999  143.389999   \n",
       "250  2022-10-21  142.869995  147.850006  142.649994  147.270004  147.270004   \n",
       "\n",
       "       Volume       SMA  \n",
       "248  61758300  155.0484  \n",
       "249  64522000  154.5314  \n",
       "250  86464700  154.1070  "
      ]
     },
     "execution_count": 90,
     "metadata": {},
     "output_type": "execute_result"
    }
   ],
   "source": [
    "df.tail(3)"
   ]
  },
  {
   "cell_type": "code",
   "execution_count": null,
   "id": "ed41e6f5-b133-4a70-9960-b43f5bcb1d21",
   "metadata": {},
   "outputs": [],
   "source": []
  }
 ],
 "metadata": {
  "kernelspec": {
   "display_name": "Python 3 (ipykernel)",
   "language": "python",
   "name": "python3"
  },
  "language_info": {
   "codemirror_mode": {
    "name": "ipython",
    "version": 3
   },
   "file_extension": ".py",
   "mimetype": "text/x-python",
   "name": "python",
   "nbconvert_exporter": "python",
   "pygments_lexer": "ipython3",
   "version": "3.10.7"
  }
 },
 "nbformat": 4,
 "nbformat_minor": 5
}
